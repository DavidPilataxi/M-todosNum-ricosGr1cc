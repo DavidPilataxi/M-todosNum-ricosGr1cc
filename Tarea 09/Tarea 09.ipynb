{
 "cells": [
  {
   "cell_type": "markdown",
   "metadata": {},
   "source": [
    "# Tarea 09\n",
    "- David Pilataxi \n",
    "- Gr1CC\n",
    "- 11 de enero de 2025"
   ]
  },
  {
   "cell_type": "markdown",
   "metadata": {},
   "source": [
    "La librería que realizará los cálculos es Numpy"
   ]
  },
  {
   "cell_type": "markdown",
   "metadata": {},
   "source": [
    "## Ejercicio 1\n",
    "\n",
    "Para cada uno de los siguientes sistemas lineales, obtenga, de ser posible, una solución con métodos gráficos. \n",
    "Explique los resultados desde un punto de vista geométrico."
   ]
  },
  {
   "cell_type": "markdown",
   "metadata": {},
   "source": [
    "### Ejercicio 1 a\n",
    "### Literal a\n",
    "\n",
    "$$x_1 + 2x_2 = 0$$\n",
    "\n",
    "$$x_1 - x_2 = 0$$"
   ]
  },
  {
   "cell_type": "code",
   "execution_count": 32,
   "metadata": {},
   "outputs": [
    {
     "name": "stdout",
     "output_type": "stream",
     "text": [
      "[ 0. -0.]\n"
     ]
    }
   ],
   "source": [
    "A = [\n",
    "    [1, 2],\n",
    "    [1, -1]\n",
    "]\n",
    "\n",
    "b = [0, 0]\n",
    "\n",
    "x = np.linalg.solve(A, b)\n",
    "print(x)"
   ]
  },
  {
   "cell_type": "markdown",
   "metadata": {},
   "source": [
    "### Literal b)\n",
    "\n",
    "$$x_1 + 2x_2 = 3$$\n",
    "\n",
    "$$-2x_1 - 4x_2 = 6$$"
   ]
  },
  {
   "cell_type": "code",
   "execution_count": null,
   "metadata": {},
   "outputs": [],
   "source": [
    "A = [\n",
    "    [1, 2],\n",
    "    [-2, -4]\n",
    "]\n",
    "\n",
    "b = [3, 6]\n",
    "\n",
    "x = np.linalg.solve(A, b)\n",
    "print(x)\n"
   ]
  },
  {
   "cell_type": "markdown",
   "metadata": {},
   "source": [
    "No existe solución."
   ]
  },
  {
   "cell_type": "markdown",
   "metadata": {},
   "source": [
    "\n",
    "### Literal c)\n",
    "\n",
    "$$2x_1 + x_2 = -1$$\n",
    "\n",
    "$$x_1 + x_2 = 2$$\n",
    "\n",
    "$$x_1 - 3x_2 = 5$$"
   ]
  },
  {
   "cell_type": "code",
   "execution_count": null,
   "metadata": {},
   "outputs": [],
   "source": [
    "A = [\n",
    "    [2, 1],\n",
    "    [1, 1],\n",
    "    [1, -3]\n",
    "]\n",
    "\n",
    "b = [-1, 2, 5]\n",
    "\n",
    "x = np.linalg.solve(A, b)\n",
    "print(x)"
   ]
  },
  {
   "cell_type": "markdown",
   "metadata": {},
   "source": [
    "Los soluciones son infinitas"
   ]
  },
  {
   "cell_type": "markdown",
   "metadata": {},
   "source": [
    "### Literal d)\n",
    "\n",
    "$$2x_1 + x_2 + x_3 = 1$$\n",
    "\n",
    "$$2x_1 + 4x_2 - x_3= -1$$"
   ]
  },
  {
   "cell_type": "code",
   "execution_count": null,
   "metadata": {},
   "outputs": [],
   "source": [
    "A = [\n",
    "    [2, 1, 1],\n",
    "    [2, 4, -1]\n",
    "]\n",
    "\n",
    "b = [1, -1]\n",
    "\n",
    "x = np.linalg.solve(A, b)\n",
    "print(x)"
   ]
  },
  {
   "cell_type": "markdown",
   "metadata": {},
   "source": [
    "Las soluciones son infinitas"
   ]
  },
  {
   "cell_type": "markdown",
   "metadata": {},
   "source": [
    "## Ejercicio 2\n",
    "\n",
    "Utilice la eliminación gaussiana con sustitución hacia atrás y aritmética de redondeo de dos dígitos para resolver \n",
    "los siguientes sistemas lineales. No reordene las ecuaciones. (La solución exacta para cada sistema es $x_1 = -1$, $x_2 = 2$, $x_3 = 3$.)"
   ]
  },
  {
   "cell_type": "markdown",
   "metadata": {},
   "source": [
    "### Literal a)\n",
    "\n",
    "$$-x_1 + 4x_2 + x_3 = 8$$\n",
    "\n",
    "$$\\frac{5}{3}x_1 + \\frac{2}{3}x_2 - \\frac{2}{3}x_3= 1$$\n",
    "\n",
    "$$2x_1 + x_2 + 4x_3 = 11$$"
   ]
  },
  {
   "cell_type": "code",
   "execution_count": null,
   "metadata": {},
   "outputs": [],
   "source": [
    "A = [\n",
    "    [-1, 4, 1],\n",
    "    [round(5/3, 2), round(2/3, 2), round(2/3, 2)],\n",
    "    [2, 1, 4]\n",
    "]\n",
    "\n",
    "b = [8, 1, 11]\n",
    "\n",
    "x = np.linalg.solve(A, b)\n",
    "print(x)"
   ]
  },
  {
   "cell_type": "markdown",
   "metadata": {},
   "source": [
    "### Literal b)\n",
    "\n",
    "$$4x_1 + 2x_2 - x_3 = -5$$\n",
    "\n",
    "$$\\frac{1}{9}x_1 + \\frac{1}{9}x_2 - \\frac{1}{3}x_3= -1$$\n",
    "\n",
    "$$x_1 + 4x_2 + 2x_3 = 9$$"
   ]
  },
  {
   "cell_type": "code",
   "execution_count": null,
   "metadata": {},
   "outputs": [],
   "source": [
    "A = [\n",
    "    [4, 2, -1],\n",
    "    [round(1/9, 2), round(1/9, 2), round(1/3, 2)],\n",
    "    [1, 4, 2]\n",
    "]\n",
    "\n",
    "b = [-5, -1, 9]\n",
    "\n",
    "x = np.linalg.solve(A, b)\n",
    "print(x)"
   ]
  },
  {
   "cell_type": "markdown",
   "metadata": {},
   "source": [
    "## Ejercicio 3\n",
    "\n",
    "Utilice el algoritmo de eliminación gaussiana para resolver, de ser posible, los siguientes sistemas de ecuaciones lineales y muestre los intercambios de fila necesarios."
   ]
  },
  {
   "cell_type": "code",
   "execution_count": 19,
   "metadata": {},
   "outputs": [],
   "source": [
    "import numpy as np\n",
    "\n",
    "def eliminacionGaussiana(matriz: np.ndarray) -> np.ndarray:\n",
    "    matriz = np.array(matriz)\n",
    "    assert matriz.shape[0] == matriz.shape[1] - 1, \"La matriz debe ser de tamaño n x (n+1).\"\n",
    "    tam = matriz.shape[0]\n",
    "\n",
    "    for col in range(tam - 1):  # Iterar por columnas\n",
    "\n",
    "        # --- Encontrar pivote\n",
    "        fila_pivote = None\n",
    "        for fila in range(col, tam):\n",
    "            if matriz[fila, col] == 0:\n",
    "                continue\n",
    "\n",
    "            if fila_pivote is None or abs(matriz[fila, col]) > abs(matriz[fila_pivote, col]):\n",
    "                fila_pivote = fila\n",
    "\n",
    "        if fila_pivote is None:\n",
    "            raise ValueError(\"No existe solución única.\")\n",
    "\n",
    "        if fila_pivote != col:\n",
    "            # Intercambiar filas\n",
    "            print(f\"Intercambiando filas {col} y {fila_pivote}\")\n",
    "            matriz[[col, fila_pivote]] = matriz[[fila_pivote, col]]\n",
    "\n",
    "        # --- Eliminación hacia adelante\n",
    "        for fila in range(col + 1, tam):\n",
    "            coeficiente = matriz[fila, col] / matriz[col, col]\n",
    "            matriz[fila, col:] -= coeficiente * matriz[col, col:]\n",
    "\n",
    "    if matriz[tam - 1, tam - 1] == 0:\n",
    "        raise ValueError(\"No existe solución única.\")\n",
    "\n",
    "    # --- Sustitución hacia atrás\n",
    "    resultado = np.zeros(tam)\n",
    "    resultado[tam - 1] = matriz[tam - 1, tam] / matriz[tam - 1, tam - 1]\n",
    "\n",
    "    for fila in range(tam - 2, -1, -1):\n",
    "        suma = sum(matriz[fila, col] * resultado[col] for col in range(fila + 1, tam))\n",
    "        resultado[fila] = (matriz[fila, tam] - suma) / matriz[fila, fila]\n",
    "\n",
    "    return resultado\n"
   ]
  },
  {
   "cell_type": "code",
   "execution_count": null,
   "metadata": {},
   "outputs": [],
   "source": []
  },
  {
   "cell_type": "markdown",
   "metadata": {},
   "source": [
    "### Literal a)\n",
    "\n",
    "$$x_1 - x_2 + 3x_3 = 2$$\n",
    "\n",
    "$$3x_1 - 3x_2 + 1x_3= - 1$$\n",
    "\n",
    "$$x_1 + x_2  = 3$$"
   ]
  },
  {
   "cell_type": "code",
   "execution_count": null,
   "metadata": {},
   "outputs": [],
   "source": [
    "A = [\n",
    "    [1, -1, 3, 2],\n",
    "    [3, -3, 1, -1],\n",
    "    [1, 1, 0, 3]\n",
    "]\n",
    "\n",
    "x = eliminacionGaussiana(A)\n",
    "print(x)"
   ]
  },
  {
   "cell_type": "markdown",
   "metadata": {},
   "source": [
    "### Literal b)\n",
    "\n",
    "$$2x_1 - 1.5x_2 + 3x_3 = 1$$\n",
    "\n",
    "$$-x_1 + 2x_3 = 3$$\n",
    "\n",
    "$$4x_1 - 4.5x_2 + 5x_3 = 1$$"
   ]
  },
  {
   "cell_type": "code",
   "execution_count": null,
   "metadata": {},
   "outputs": [],
   "source": [
    "A = [\n",
    "    [2, -1.5, 3, 1],\n",
    "    [-1, 0, 2, 3],\n",
    "    [4, -4.5, 5, 1]\n",
    "]\n",
    "\n",
    "x = eliminacionGaussiana(A)\n",
    "print(x)"
   ]
  },
  {
   "cell_type": "markdown",
   "metadata": {},
   "source": [
    "### Literal c)\n",
    "\n",
    "$$2x_1 = 3$$\n",
    "\n",
    "$$x_1 + 1.5x_2= 4.5$$\n",
    "\n",
    "$$- 3x_2 - 0.5x_3 = -6.6$$\n",
    "\n",
    "$$2x_1 - 2x_2 + x_3 + x_4 = 0.8$$"
   ]
  },
  {
   "cell_type": "code",
   "execution_count": null,
   "metadata": {},
   "outputs": [],
   "source": [
    "A = [\n",
    "    [2, 0, 0, 0, 3],\n",
    "    [1, 1.5, 0, 0, 4.5],\n",
    "    [0, -3, 0.5, 0, -6.6],\n",
    "    [2, -2, 1, 1, 0.8]\n",
    "]\n",
    "\n",
    "x = eliminacionGaussiana(A)\n",
    "print(x)"
   ]
  },
  {
   "cell_type": "markdown",
   "metadata": {},
   "source": [
    "### Literal d)\n",
    "\n",
    "$$x_1 + x_2 + x_4 = 2$$\n",
    "\n",
    "$$2x_1 + x_2 - x_3 + x_4 = 1$$\n",
    "\n",
    "$$4x_1 - x_2 - 2x_3 + 2x_4 = 0$$\n",
    "\n",
    "$$3x_1 - x_2 - x_3 + 2x_4 = -3$$"
   ]
  },
  {
   "cell_type": "code",
   "execution_count": null,
   "metadata": {},
   "outputs": [],
   "source": [
    "A = [\n",
    "    [1, 1, 0, 1, 2],\n",
    "    [2, 1, -1, 1, 1],\n",
    "    [4, -1, -2, 2, 0],\n",
    "    [3, -1, -1, 2, -3]\n",
    "]\n",
    "\n",
    "x = eliminacionGaussiana(A)\n",
    "print(x)"
   ]
  },
  {
   "cell_type": "markdown",
   "metadata": {},
   "source": [
    "## Ejercicio 4\n",
    "\n"
   ]
  },
  {
   "cell_type": "code",
   "execution_count": 29,
   "metadata": {},
   "outputs": [],
   "source": [
    "import numpy as np\n",
    "\n",
    "def eliminacionGaussiana(A: np.ndarray) -> np.ndarray:\n",
    "    A = np.array(A)\n",
    "    assert A.shape[0] == A.shape[1] - 1, \"La matriz A debe ser de tamaño n-by-(n+1).\"\n",
    "    n = A.shape[0]\n",
    "\n",
    "    for i in range(n - 1):  # Loop por columnas\n",
    "\n",
    "        # --- Buscar el pivote\n",
    "        pivote = None\n",
    "        for fila in range(i, n):\n",
    "            if A[fila, i] != 0 and (pivote is None or abs(A[fila, i]) > abs(A[pivote, i])):\n",
    "                pivote = fila\n",
    "\n",
    "        if pivote is None:\n",
    "            raise ValueError(\"No existe solución única.\")\n",
    "\n",
    "        if pivote != i:\n",
    "            # Intercambiar filas\n",
    "            print(f\"Intercambiando filas {i} y {pivote}\")\n",
    "            A[[i, pivote]] = A[[pivote, i]]\n",
    "\n",
    "        # --- Eliminación hacia adelante\n",
    "        for fila in range(i + 1, n):\n",
    "            factor = A[fila, i] / A[i, i]\n",
    "            A[fila, i:] -= factor * A[i, i:]\n",
    "\n",
    "    if A[n - 1, n - 1] == 0:\n",
    "        raise ValueError(\"No existe solución única.\")\n",
    "\n",
    "    # --- Sustitución hacia atrás\n",
    "    x = np.zeros(n, dtype=np.float32)\n",
    "    x[n - 1] = A[n - 1, n] / A[n - 1, n - 1]\n",
    "\n",
    "    for i in range(n - 2, -1, -1):\n",
    "        suma = 0\n",
    "        for j in range(i + 1, n):\n",
    "            suma += A[i, j] * x[j]\n",
    "        x[i] = (A[i, n] - suma) / A[i, i]\n",
    "\n",
    "    return x\n"
   ]
  },
  {
   "cell_type": "markdown",
   "metadata": {},
   "source": [
    "\n",
    "### Literal a)\n",
    "\n",
    "$$\\frac{1}{4}x_1 + \\frac{1}{5}x_2 + \\frac{1}{6}x_3 = 9$$\n",
    "\n",
    "$$\\frac{1}{3}x_1 + \\frac{1}{4}x_2 + \\frac{1}{5}x_3= 8$$\n",
    "\n",
    "$$\\frac{1}{2}x_1 + x_2 + 2x_3 = 8$$\n"
   ]
  },
  {
   "cell_type": "code",
   "execution_count": null,
   "metadata": {},
   "outputs": [],
   "source": [
    "\n",
    "A = np.array([[1/4, 1/5, 1/6, 9],\n",
    "              [1/3, 1/4, 1/5, 8],\n",
    "              [1/2, 1, 2, 8]], dtype=np.float32)\n",
    "\n",
    "solucion = eliminacionGaussiana(A)\n",
    "print(solucion)\n"
   ]
  },
  {
   "cell_type": "markdown",
   "metadata": {},
   "source": [
    "\n",
    "### Literal b)\n",
    "\n",
    "$$3.333x_1 + 15920x_2 - 10.333x_3 = 15913$$\n",
    "\n",
    "$$2.222x_1 + 16.71x_2 + 9.612x_3 = 28.544$$\n",
    "\n",
    "$$1.5611x_1 + 5.1791x_2 + 1.6852x_3 = 8.4254$$\n"
   ]
  },
  {
   "cell_type": "code",
   "execution_count": null,
   "metadata": {},
   "outputs": [],
   "source": [
    "\n",
    "A = np.array([[3.333, 15920, 10.333, 15913],\n",
    "              [2.222, 16.71, 9.612, 28.544],\n",
    "              [1.5611, 5.1791, 1.6852, 8.4254]], dtype=np.float32)\n",
    "\n",
    "solucion = eliminacionGaussiana(A)\n",
    "print(solucion)\n"
   ]
  },
  {
   "cell_type": "markdown",
   "metadata": {},
   "source": [
    "\n",
    "### Literal c)\n",
    "\n",
    "$$x_1 + \\frac{1}{2}x_2 + \\frac{1}{3}x_3 + \\frac{1}{4}x_4 = \\frac{1}{6}$$\n",
    "\n",
    "$$\\frac{1}{2}x_1 + \\frac{1}{3}x_2 + \\frac{1}{4}x_3 + \\frac{1}{5}x_4 = \\frac{1}{7}$$\n",
    "\n",
    "$$\\frac{1}{3}x_1 + \\frac{1}{4}x_2 + \\frac{1}{5}x_3 + \\frac{1}{6}x_4 = \\frac{1}{8}$$\n",
    "\n",
    "$$\\frac{1}{4}x_1 + \\frac{1}{5}x_2 + \\frac{1}{6}x_3 + \\frac{1}{7}x_4 = \\frac{1}{9}$$\n"
   ]
  },
  {
   "cell_type": "code",
   "execution_count": null,
   "metadata": {},
   "outputs": [],
   "source": [
    "\n",
    "A = np.array([[1, 1/2, 1/3, 1/4, 1/6],\n",
    "              [1/2, 1/3, 1/4, 1/5, 1/7],\n",
    "              [1/3, 1/4, 1/5, 1/6, 1/8],\n",
    "              [1/4, 1/5, 1/6, 1/7, 1/9]], dtype=np.float32)\n",
    "\n",
    "solucion = eliminacionGaussiana(A)\n",
    "print(solucion)\n"
   ]
  },
  {
   "cell_type": "markdown",
   "metadata": {},
   "source": [
    "\n",
    "### Literal d)\n",
    "\n",
    "$$2x_1 + x_2 - x_3 + x_4 - 3x_5 = 7$$\n",
    "\n",
    "$$x_1 + 2x_3 - x_4 + x_5 = 2$$\n",
    "\n",
    "$$- 2x_2 - x_3 + x_4 - x_5 = -5$$\n",
    "\n",
    "$$3x_1 + x_2 - 4x_3 + 5x_5 = 6$$\n",
    "\n",
    "$$x_1 - x_2 - x_3 - x_4 + x_5= -3$$\n"
   ]
  },
  {
   "cell_type": "code",
   "execution_count": null,
   "metadata": {},
   "outputs": [],
   "source": [
    "\n",
    "A = np.array([[2, 1, -1, 1, -3, 7],\n",
    "              [1, 0, 2, -1, 1, 2],\n",
    "              [0, -2, -1, 1, -1, -5],\n",
    "              [3, 1, -4, 0, 5, 6],\n",
    "              [1, -1, -1, -1, 1, -3]], dtype=np.float32)\n",
    "\n",
    "solucion = eliminacionGaussiana(A)\n",
    "print(solucion)\n"
   ]
  },
  {
   "cell_type": "markdown",
   "metadata": {},
   "source": [
    "\n",
    "## Ejercicio 5\n",
    "\n",
    "Dado el sistema lineal:\n",
    "\n",
    "$$x_1 - x_2 + \\alpha x_3 = -2$$\n",
    "\n",
    "$$- x_1 + 2x_2 - \\alpha x_3 = 3$$\n",
    "\n",
    "$$\\alpha x_1 + x_2 + x_3 = 2$$\n",
    "\n",
    "### Literal a)\n",
    "\n",
    "Encuentre el valor(es) de $\\alpha$ para los que el sistema no tiene soluciones.\n",
    "\n",
    "\n",
    "\n",
    "$$det(A) = (2 + \\alpha) + (-1 + \\alpha) + \\alpha (- 1 - 2 \\alpha) = 0$$\n",
    "\n",
    "$$det(A) = 2 \\alpha^{2} - \\alpha + 1 = 0$$\n",
    "\n",
    "$$\\alpha = 1      ;     \\alpha = - \\frac{1}{2}$$\n",
    "\n",
    "Si $\\alpha$ tiene alguno de los valores del conjunto: $\\set{-\\frac{1}{2}, 1}$,  el sistema no tiene solución.\n",
    "\n",
    "### Literal b)\n",
    "\n",
    "Encuentre el valor(es) de 𝛼 para los que el sistema tiene un número infinito de soluciones.\n",
    "\n",
    ".\n",
    "\n",
    "$$\\begin{pmatrix} 1 & -1 & \\alpha & -2 \\\\ 0 & 1 & 0 & 1 \\\\ 0 & 0 & (1 - \\alpha^{2}) & .... \\end{pmatrix}$$\n",
    "\n",
    "Esta es la matriz reducida\n",
    "\n",
    "$$1 - \\alpha^{2} = 0$$\n",
    "\n",
    "Si $\\alpha$ tiene alguno de los valores del conjunto $\\set{-1, 1}$,  el sistema tiene soluciones infinitas.\n",
    "\n",
    "### Literal c)\n",
    "\n",
    "Suponga que existe una única solución para una a determinada, encuentre la solución.\n",
    "\n",
    "Si $\\alpha = 2$. Caculando la solución con Numpy\n"
   ]
  },
  {
   "cell_type": "markdown",
   "metadata": {},
   "source": []
  },
  {
   "cell_type": "code",
   "execution_count": null,
   "metadata": {},
   "outputs": [],
   "source": [
    "A = [\n",
    "    [1, -1, 2],\n",
    "    [-1, 2, -2],\n",
    "    [2, 1, 1]\n",
    "]\n",
    "\n",
    "b = [-2, 3, 2]\n",
    "\n",
    "x = np.linalg.solve(A, b)\n",
    "print(x)"
   ]
  }
 ],
 "metadata": {
  "kernelspec": {
   "display_name": "base",
   "language": "python",
   "name": "python3"
  },
  "language_info": {
   "codemirror_mode": {
    "name": "ipython",
    "version": 3
   },
   "file_extension": ".py",
   "mimetype": "text/x-python",
   "name": "python",
   "nbconvert_exporter": "python",
   "pygments_lexer": "ipython3",
   "version": "3.12.4"
  }
 },
 "nbformat": 4,
 "nbformat_minor": 2
}
