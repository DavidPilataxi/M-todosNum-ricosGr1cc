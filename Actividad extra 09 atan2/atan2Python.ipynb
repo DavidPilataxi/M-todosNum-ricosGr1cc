{
 "cells": [
  {
   "cell_type": "markdown",
   "metadata": {},
   "source": [
    "### Ejemplos de atan2 en Python\n",
    "- David Pilataxi\n"
   ]
  },
  {
   "cell_type": "code",
   "execution_count": 1,
   "metadata": {},
   "outputs": [
    {
     "name": "stdout",
     "output_type": "stream",
     "text": [
      "Ejemplo 1: Ángulos en los cuatro cuadrantes\n",
      "0.7853981633974483\n",
      "2.356194490192345\n",
      "-2.356194490192345\n",
      "-0.7853981633974483\n",
      "\n",
      "Ejemplo 2: Coordenadas en el eje X\n",
      "1.5707963267948966\n",
      "-1.5707963267948966\n",
      "\n",
      "Ejemplo 3: Conversión de coordenadas cartesianas a polares\n",
      "Radio: 5.0\n",
      "Ángulo (radianes): 0.9272952180016122\n",
      "\n",
      "Ejemplo 4: Comparación entre atan y atan2\n",
      "Usando atan: -0.7853981633974483\n",
      "Usando atan2: 2.356194490192345\n",
      "\n",
      "Ejemplo 5: Conversión de ángulo a grados\n",
      "Ángulo en radianes: 2.356194490192345\n",
      "Ángulo en grados: 135.0\n"
     ]
    }
   ],
   "source": [
    "import math\n",
    "\n",
    "# Ejemplo 1: Identificar ángulos en los cuatro cuadrantes\n",
    "print(\"Ejemplo 1: Ángulos en los cuatro cuadrantes\")\n",
    "print(math.atan2(1, 1))   # Primer cuadrante: π/4\n",
    "print(math.atan2(1, -1))  # Segundo cuadrante: 3π/4\n",
    "print(math.atan2(-1, -1)) # Tercer cuadrante: -3π/4\n",
    "print(math.atan2(-1, 1))  # Cuarto cuadrante: -π/4\n",
    "\n",
    "# Ejemplo 2: Manejo de coordenadas en el eje X\n",
    "print(\"\\nEjemplo 2: Coordenadas en el eje X\")\n",
    "print(math.atan2(1, 0))   # Punto en el eje positivo Y: π/2\n",
    "print(math.atan2(-1, 0))  # Punto en el eje negativo Y: -π/2\n",
    "\n",
    "# Ejemplo 3: Conversión de coordenadas cartesianas a polares\n",
    "print(\"\\nEjemplo 3: Conversión de coordenadas cartesianas a polares\")\n",
    "x, y = 3, 4\n",
    "r = math.sqrt(x**2 + y**2)  # Cálculo de la distancia al origen\n",
    "theta = math.atan2(y, x)    # Ángulo en radianes\n",
    "print(f\"Radio: {r}\")\n",
    "print(f\"Ángulo (radianes): {theta}\")\n",
    "\n",
    "# Ejemplo 4: Comparación entre atan y atan2\n",
    "print(\"\\nEjemplo 4: Comparación entre atan y atan2\")\n",
    "y, x = 1, -1\n",
    "print(\"Usando atan:\", math.atan(y / x))  # Resultado incorrecto\n",
    "print(\"Usando atan2:\", math.atan2(y, x)) # Resultado correcto\n",
    "\n",
    "# Ejemplo 5: Conversión de ángulo a grados\n",
    "print(\"\\nEjemplo 5: Conversión de ángulo a grados\")\n",
    "angle_rad = math.atan2(2, -2)  # Segundo cuadrante\n",
    "angle_deg = math.degrees(angle_rad)\n",
    "print(\"Ángulo en radianes:\", angle_rad)\n",
    "print(\"Ángulo en grados:\", angle_deg)\n"
   ]
  },
  {
   "cell_type": "code",
   "execution_count": null,
   "metadata": {},
   "outputs": [],
   "source": []
  }
 ],
 "metadata": {
  "kernelspec": {
   "display_name": "base",
   "language": "python",
   "name": "python3"
  },
  "language_info": {
   "codemirror_mode": {
    "name": "ipython",
    "version": 3
   },
   "file_extension": ".py",
   "mimetype": "text/x-python",
   "name": "python",
   "nbconvert_exporter": "python",
   "pygments_lexer": "ipython3",
   "version": "3.12.4"
  }
 },
 "nbformat": 4,
 "nbformat_minor": 2
}
