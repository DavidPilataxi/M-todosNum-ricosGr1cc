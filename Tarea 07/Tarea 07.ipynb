{
 "cells": [
  {
   "cell_type": "markdown",
   "metadata": {},
   "source": [
    "# Tarea 07\n",
    "- David Pilataxi \n",
    "- Gr1CC\n",
    "- 27 de noviembre de 2024"
   ]
  },
  {
   "cell_type": "code",
   "execution_count": 7,
   "metadata": {},
   "outputs": [
    {
     "name": "stdout",
     "output_type": "stream",
     "text": [
      "Spline evaluado en x = 1.5: 2.40625000000000\n",
      "Spline evaluado en x = 2.5: 3.90625000000000\n"
     ]
    }
   ],
   "source": [
    "import sympy as sym\n",
    "\n",
    "# Definir la función cubic_spline\n",
    "def cubic_spline(xs, ys):\n",
    "    # Ordenar puntos por valores de x\n",
    "    points = sorted(zip(xs, ys), key=lambda x: x[0])\n",
    "    xs = [x for x, _ in points]\n",
    "    ys = [y for _, y in points]\n",
    "\n",
    "    n = len(points) - 1  # Número de splines\n",
    "\n",
    "    # Calcular las distancias entre valores consecutivos de xs\n",
    "    h = [xs[i + 1] - xs[i] for i in range(n)]\n",
    "\n",
    "    # Calcular los valores de alpha\n",
    "    alpha = [0] * (n + 1)\n",
    "    for i in range(1, n):\n",
    "        alpha[i] = (3 / h[i]) * (ys[i + 1] - ys[i]) - (3 / h[i - 1]) * (ys[i] - ys[i - 1])\n",
    "\n",
    "    # Inicializar listas l, u y z\n",
    "    l = [1] * (n + 1)\n",
    "    u = [0] * (n + 1)\n",
    "    z = [0] * (n + 1)\n",
    "\n",
    "    # Calcular l, u y z\n",
    "    for i in range(1, n):\n",
    "        l[i] = 2 * (xs[i + 1] - xs[i - 1]) - h[i - 1] * u[i - 1]\n",
    "        u[i] = h[i] / l[i]\n",
    "        z[i] = (alpha[i] - h[i - 1] * z[i - 1]) / l[i]\n",
    "\n",
    "    # Inicializar c, b, d y a\n",
    "    l[n] = 1\n",
    "    z[n] = 0\n",
    "    c = [0] * (n + 1)\n",
    "    b = [0] * n\n",
    "    d = [0] * n\n",
    "    a = [0] * n\n",
    "\n",
    "    x = sym.Symbol(\"x\")\n",
    "    splines = []\n",
    "\n",
    "    # Calcular los coeficientes para cada spline\n",
    "    for j in range(n - 1, -1, -1):\n",
    "        c[j] = z[j] - u[j] * c[j + 1]\n",
    "        b[j] = (ys[j + 1] - ys[j]) / h[j] - h[j] * (c[j + 1] + 2 * c[j]) / 3\n",
    "        d[j] = (c[j + 1] - c[j]) / (3 * h[j])\n",
    "        a[j] = ys[j]\n",
    "\n",
    "        # Definir el spline como una función de x\n",
    "        spline_j = a[j] + b[j] * (x - xs[j]) + c[j] * (x - xs[j])**2 + d[j] * (x - xs[j])**3\n",
    "        splines.append(spline_j)\n",
    "\n",
    "    splines.reverse()  # Opcional: invertir el orden de los splines\n",
    "    return splines\n",
    "\n",
    "# Datos de entrada\n",
    "xs = [1, 2, 3]\n",
    "ys = [2, 3, 5]\n",
    "\n",
    "# Calcular los splines\n",
    "splines = cubic_spline(xs, ys)\n",
    "\n",
    "# Evaluar los splines en puntos específicos\n",
    "x_values = [1.5, 2.5]  # Cambia los valores aquí si quieres evaluar en otros puntos\n",
    "results = []\n",
    "\n",
    "for spline, interval_start, interval_end in zip(splines, xs[:-1], xs[1:]):\n",
    "    for x_val in x_values:\n",
    "        if interval_start <= x_val <= interval_end:\n",
    "            result = spline.subs(sym.Symbol(\"x\"), x_val)\n",
    "            results.append((x_val, result))\n",
    "\n",
    "# Mostrar los resultados\n",
    "for x_val, result in results:\n",
    "    print(f\"Spline evaluado en x = {x_val}: {result}\")\n"
   ]
  },
  {
   "cell_type": "code",
   "execution_count": null,
   "metadata": {},
   "outputs": [],
   "source": []
  }
 ],
 "metadata": {
  "kernelspec": {
   "display_name": "base",
   "language": "python",
   "name": "python3"
  },
  "language_info": {
   "codemirror_mode": {
    "name": "ipython",
    "version": 3
   },
   "file_extension": ".py",
   "mimetype": "text/x-python",
   "name": "python",
   "nbconvert_exporter": "python",
   "pygments_lexer": "ipython3",
   "version": "3.12.4"
  }
 },
 "nbformat": 4,
 "nbformat_minor": 2
}
