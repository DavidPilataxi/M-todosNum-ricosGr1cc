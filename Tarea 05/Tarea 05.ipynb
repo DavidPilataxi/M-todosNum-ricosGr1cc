{
 "cells": [
  {
   "cell_type": "markdown",
   "metadata": {},
   "source": [
    "# Tarea 05\n",
    "- David Pilataxi \n",
    "- Gr1CC\n",
    "- 27 de noviembre de 2024"
   ]
  },
  {
   "cell_type": "markdown",
   "metadata": {},
   "source": [
    "### Ejercicio #1"
   ]
  },
  {
   "cell_type": "code",
   "execution_count": 54,
   "metadata": {},
   "outputs": [
    {
     "name": "stdout",
     "output_type": "stream",
     "text": [
      "Método de Newton:\n",
      "Raíz aproximada: -0.8654740331016162\n",
      "Iteraciones: 4\n",
      "Llamadas a la función f(x): 8\n",
      "\n",
      "Método de la Secante:\n",
      "Raíz aproximada: -0.8654740331019471\n",
      "Iteraciones: 8\n",
      "Llamadas a la función f(x): 16\n",
      "\n",
      "Método de Newton con p0 = 0:\n",
      "Raíz aproximada: nan\n"
     ]
    },
    {
     "name": "stderr",
     "output_type": "stream",
     "text": [
      "C:\\Users\\Vid\\AppData\\Local\\Temp\\ipykernel_9916\\1015622642.py:19: RuntimeWarning: divide by zero encountered in scalar divide\n",
      "  p_new = p - f_p / df_p\n",
      "C:\\Users\\Vid\\AppData\\Local\\Temp\\ipykernel_9916\\1015622642.py:5: RuntimeWarning: invalid value encountered in cos\n",
      "  return -x**3 - np.cos(x)\n",
      "C:\\Users\\Vid\\AppData\\Local\\Temp\\ipykernel_9916\\1015622642.py:8: RuntimeWarning: invalid value encountered in sin\n",
      "  return -3*x**2 + np.sin(x)\n"
     ]
    }
   ],
   "source": [
    "import numpy as np\n",
    "\n",
    "# Definir la función f(x) y su derivada f'(x)\n",
    "def f(x):\n",
    "    return -x**3 - np.cos(x)\n",
    "\n",
    "def df(x):\n",
    "    return -3*x**2 + np.sin(x)\n",
    "\n",
    "# Método de Newton\n",
    "def metodo_newton(p0, tol=1e-5, max_iter=100):\n",
    "    p = p0\n",
    "    iteraciones = 0\n",
    "    llamados_a_f = 0\n",
    "    for _ in range(max_iter):\n",
    "        f_p = f(p)\n",
    "        df_p = df(p)\n",
    "        llamados_a_f += 2  # Llamada a f(x) y f'(x)\n",
    "        p_new = p - f_p / df_p\n",
    "        iteraciones += 1\n",
    "        if abs(p_new - p) < tol:  # Condición de parada\n",
    "            return p_new, iteraciones, llamados_a_f\n",
    "        p = p_new\n",
    "    return p, iteraciones, llamados_a_f\n",
    "\n",
    "# Método de la Secante\n",
    "def metodo_secante(p0, p1, tol=1e-5, max_iter=100):\n",
    "    iteraciones = 0\n",
    "    llamados_a_f = 0\n",
    "    for _ in range(max_iter):\n",
    "        f_p0 = f(p0)\n",
    "        f_p1 = f(p1)\n",
    "        llamados_a_f += 2  # Llamadas a f(x) para p0 y p1\n",
    "        if f_p1 - f_p0 == 0:  # Evitar división por cero\n",
    "            return p1, iteraciones, llamados_a_f\n",
    "        p_new = p1 - f_p1 * (p1 - p0) / (f_p1 - f_p0)\n",
    "        iteraciones += 1\n",
    "        if abs(p_new - p1) < tol:  # Condición de parada\n",
    "            return p_new, iteraciones, llamados_a_f\n",
    "        p0, p1 = p1, p_new\n",
    "    return p1, iteraciones, llamados_a_f\n",
    "\n",
    "# Inicialización\n",
    "p0_newton = -1\n",
    "p0_secante = -1\n",
    "p1_secante = 0\n",
    "\n",
    "# Aplicar los métodos\n",
    "raiz_newton, iter_newton, llamados_newton = metodo_newton(p0_newton)\n",
    "raiz_secante, iter_secante, llamados_secante = metodo_secante(p0_secante, p1_secante)\n",
    "\n",
    "# Imprimir resultados\n",
    "print(\"Método de Newton:\")\n",
    "print(f\"Raíz aproximada: {raiz_newton}\")\n",
    "print(f\"Iteraciones: {iter_newton}\")\n",
    "print(f\"Llamadas a la función f(x): {llamados_newton}\")\n",
    "print()\n",
    "print(\"Método de la Secante:\")\n",
    "print(f\"Raíz aproximada: {raiz_secante}\")\n",
    "print(f\"Iteraciones: {iter_secante}\")\n",
    "print(f\"Llamadas a la función f(x): {llamados_secante}\")\n",
    "\n",
    "# Verificación si se puede usar p0 = 0\n",
    "try:\n",
    "    raiz_newton_zero, _, _ = metodo_newton(0)\n",
    "    print(\"\\nMétodo de Newton con p0 = 0:\")\n",
    "    print(f\"Raíz aproximada: {raiz_newton_zero}\")\n",
    "except Exception as e:\n",
    "    print(\"\\nMétodo de Newton con p0 = 0 falló:\", e)\n"
   ]
  },
  {
   "cell_type": "markdown",
   "metadata": {},
   "source": [
    "### Ejercicio 2 a. "
   ]
  },
  {
   "cell_type": "code",
   "execution_count": 55,
   "metadata": {},
   "outputs": [
    {
     "name": "stdout",
     "output_type": "stream",
     "text": [
      "La raíz aproximada en el intervalo [1, 4] es: 2.6907\n"
     ]
    }
   ],
   "source": [
    "# Método de bisección\n",
    "def bisection_method(f, a, b, tol=1e-4, max_iter=100):\n",
    "    if f(a) * f(b) >= 0:\n",
    "        print(\"El método de bisección no se puede aplicar: f(a) y f(b) deben tener signos opuestos.\")\n",
    "        return None\n",
    "    \n",
    "    for i in range(max_iter):\n",
    "        c = (a + b) / 2  # Punto medio\n",
    "        if abs(f(c)) < tol or (b - a) / 2 < tol:\n",
    "            return c  # La raíz aproximada\n",
    "        \n",
    "        # Determinar el subintervalo\n",
    "        if f(a) * f(c) < 0:\n",
    "            b = c\n",
    "        else:\n",
    "            a = c\n",
    "    \n",
    "    print(\"El método de bisección no convergió en el número máximo de iteraciones.\")\n",
    "    return None\n",
    "\n",
    "# Definir la función f(x)\n",
    "def f(x):\n",
    "    return x**3 - 2*x**2 - 5\n",
    "\n",
    "# Intervalo [1, 4]\n",
    "a, b = 1, 4\n",
    "\n",
    "# Llamamos al método de bisección\n",
    "root = bisection_method(f, a, b, tol=1e-4)\n",
    "\n",
    "if root is not None:\n",
    "    print(f\"La raíz aproximada en el intervalo [{a}, {b}] es: {root:.4f}\")\n",
    "else:\n",
    "    print(\"No se encontró una raíz en el intervalo dado.\")\n"
   ]
  },
  {
   "cell_type": "markdown",
   "metadata": {},
   "source": [
    "### Ejercicio 2 b."
   ]
  },
  {
   "cell_type": "code",
   "execution_count": 56,
   "metadata": {},
   "outputs": [
    {
     "name": "stdout",
     "output_type": "stream",
     "text": [
      "La raíz aproximada en el intervalo [-3, -2] es: -2.8794\n"
     ]
    }
   ],
   "source": [
    "# Método de bisección\n",
    "def bisection_method(f, a, b, tol=1e-4, max_iter=100):\n",
    "    if f(a) * f(b) >= 0:\n",
    "        print(\"El método de bisección no se puede aplicar: f(a) y f(b) deben tener signos opuestos.\")\n",
    "        return None\n",
    "    \n",
    "    for i in range(max_iter):\n",
    "        c = (a + b) / 2  # Punto medio\n",
    "        if abs(f(c)) < tol or (b - a) / 2 < tol:\n",
    "            return c  # La raíz aproximada\n",
    "        \n",
    "        # Determinar el subintervalo\n",
    "        if f(a) * f(c) < 0:\n",
    "            b = c\n",
    "        else:\n",
    "            a = c\n",
    "    \n",
    "    print(\"El método de bisección no convergió en el número máximo de iteraciones.\")\n",
    "    return None\n",
    "\n",
    "# Definir la función f(x)\n",
    "def f(x):\n",
    "    return x**3 + 3*x**2 - 1\n",
    "\n",
    "# Intervalo [-3, -2]\n",
    "a, b = -3, -2\n",
    "\n",
    "# Llamamos al método de bisección\n",
    "root = bisection_method(f, a, b, tol=1e-4)\n",
    "\n",
    "if root is not None:\n",
    "    print(f\"La raíz aproximada en el intervalo [{a}, {b}] es: {root:.4f}\")\n",
    "else:\n",
    "    print(\"No se encontró una raíz en el intervalo dado.\")\n"
   ]
  },
  {
   "cell_type": "markdown",
   "metadata": {},
   "source": [
    "### Ejercicio 2 c."
   ]
  },
  {
   "cell_type": "code",
   "execution_count": 57,
   "metadata": {},
   "outputs": [
    {
     "name": "stdout",
     "output_type": "stream",
     "text": [
      "La raíz aproximada en el intervalo [0.0000, 1.5708] es: 0.7391\n"
     ]
    }
   ],
   "source": [
    "import numpy as np\n",
    "\n",
    "# Método de bisección\n",
    "def bisection_method(f, a, b, tol=1e-4, max_iter=100):\n",
    "    if f(a) * f(b) >= 0:\n",
    "        print(\"El método de bisección no se puede aplicar: f(a) y f(b) deben tener signos opuestos.\")\n",
    "        return None\n",
    "    \n",
    "    for i in range(max_iter):\n",
    "        c = (a + b) / 2  # Punto medio\n",
    "        if abs(f(c)) < tol or (b - a) / 2 < tol:\n",
    "            return c  # La raíz aproximada\n",
    "        \n",
    "        # Determinar el subintervalo\n",
    "        if f(a) * f(c) < 0:\n",
    "            b = c\n",
    "        else:\n",
    "            a = c\n",
    "    \n",
    "    print(\"El método de bisección no convergió en el número máximo de iteraciones.\")\n",
    "    return None\n",
    "\n",
    "# Definir la función f(x)\n",
    "def f(x):\n",
    "    return x - np.cos(x)\n",
    "\n",
    "# Intervalo [0, π/2]\n",
    "a, b = 0, np.pi / 2\n",
    "\n",
    "# Llamamos al método de bisección\n",
    "root = bisection_method(f, a, b, tol=1e-4)\n",
    "\n",
    "if root is not None:\n",
    "    print(f\"La raíz aproximada en el intervalo [{a:.4f}, {b:.4f}] es: {root:.4f}\")\n",
    "else:\n",
    "    print(\"No se encontró una raíz en el intervalo dado.\")\n"
   ]
  },
  {
   "cell_type": "markdown",
   "metadata": {},
   "source": [
    "### Ejercicio 2 d."
   ]
  },
  {
   "cell_type": "code",
   "execution_count": 59,
   "metadata": {},
   "outputs": [
    {
     "name": "stdout",
     "output_type": "stream",
     "text": [
      "La raíz aproximada en el intervalo [0.0000, 1.5708] es: 0.9643\n"
     ]
    }
   ],
   "source": [
    "import numpy as np\n",
    "\n",
    "# Método de bisección\n",
    "def bisection_method(f, a, b, tol=1e-4, max_iter=100):\n",
    "    if f(a) * f(b) >= 0:\n",
    "        print(\"El método de bisección no se puede aplicar: f(a) y f(b) deben tener signos opuestos.\")\n",
    "        return None\n",
    "    \n",
    "    for i in range(max_iter):\n",
    "        c = (a + b) / 2  # Punto medio\n",
    "        if abs(f(c)) < tol or (b - a) / 2 < tol:\n",
    "            return c  # La raíz aproximada\n",
    "        \n",
    "        # Determinar el subintervalo\n",
    "        if f(a) * f(c) < 0:\n",
    "            b = c\n",
    "        else:\n",
    "            a = c\n",
    "    \n",
    "    print(\"El método de bisección no convergió en el número máximo de iteraciones.\")\n",
    "    return None\n",
    "\n",
    "# Definir la nueva función f(x) basada en la ecuación proporcionada\n",
    "def f(x):\n",
    "    return x - 0.8 - 0.2 * np.sin(x)\n",
    "\n",
    "# Intervalo [0, π/2]\n",
    "a, b = 0, np.pi / 2\n",
    "\n",
    "# Llamamos al método de bisección\n",
    "root = bisection_method(f, a, b, tol=1e-4)\n",
    "\n",
    "if root is not None:\n",
    "    print(f\"La raíz aproximada en el intervalo [{a:.4f}, {b:.4f}] es: {root:.4f}\")\n",
    "else:\n",
    "    print(\"No se encontró una raíz en el intervalo dado.\")\n"
   ]
  },
  {
   "cell_type": "markdown",
   "metadata": {},
   "source": [
    "### Ejercicio 3 a.\n"
   ]
  },
  {
   "cell_type": "code",
   "execution_count": 60,
   "metadata": {},
   "outputs": [
    {
     "name": "stdout",
     "output_type": "stream",
     "text": [
      "Raíz aproximada usando el método de bisección: 1.51213\n",
      "Raíz aproximada usando el método de Newton: 1.51213\n"
     ]
    }
   ],
   "source": [
    "import numpy as np\n",
    "\n",
    "# Método de bisección\n",
    "def bisection_method(f, a, b, tol=1e-5, max_iter=100):\n",
    "    if f(a) * f(b) >= 0:\n",
    "        print(\"El método de bisección no se puede aplicar: f(a) y f(b) deben tener signos opuestos.\")\n",
    "        return None\n",
    "    \n",
    "    for i in range(max_iter):\n",
    "        c = (a + b) / 2  # Punto medio\n",
    "        if abs(f(c)) < tol or (b - a) / 2 < tol:\n",
    "            return c  # La raíz aproximada\n",
    "        \n",
    "        # Determinar el subintervalo\n",
    "        if f(a) * f(c) < 0:\n",
    "            b = c\n",
    "        else:\n",
    "            a = c\n",
    "    \n",
    "    print(\"El método de bisección no convergió en el número máximo de iteraciones.\")\n",
    "    return None\n",
    "\n",
    "# Método de Newton\n",
    "def newton_method(f, f_prime, p0, tol=1e-5, max_iter=100):\n",
    "    p = p0\n",
    "    for i in range(max_iter):\n",
    "        fp = f(p)\n",
    "        fp_prime = f_prime(p)\n",
    "        if abs(fp_prime) < 1e-12:  # Evitar división por cero\n",
    "            print(\"Derivada muy cercana a cero. Método falla.\")\n",
    "            return None\n",
    "        p_next = p - fp / fp_prime\n",
    "        if abs(p_next - p) < tol:\n",
    "            return p_next\n",
    "        p = p_next\n",
    "    print(\"El método de Newton no convergió en el número máximo de iteraciones.\")\n",
    "    return None\n",
    "\n",
    "# Definir la función f(x) y su derivada f'(x)\n",
    "def f(x):\n",
    "    return 3 * x - np.exp(x)\n",
    "\n",
    "def f_prime(x):\n",
    "    return 3 - np.exp(x)\n",
    "\n",
    "# Intervalo para bisección\n",
    "a, b = 1, 2\n",
    "\n",
    "# Punto inicial para Newton\n",
    "p0 = 1.5\n",
    "\n",
    "# Resolver usando el método de bisección\n",
    "root_bisection = bisection_method(f, a, b, tol=1e-5)\n",
    "if root_bisection is not None:\n",
    "    print(f\"Raíz aproximada usando el método de bisección: {root_bisection:.5f}\")\n",
    "\n",
    "# Resolver usando el método de Newton\n",
    "root_newton = newton_method(f, f_prime, p0, tol=1e-5)\n",
    "if root_newton is not None:\n",
    "    print(f\"Raíz aproximada usando el método de Newton: {root_newton:.5f}\")\n"
   ]
  },
  {
   "cell_type": "markdown",
   "metadata": {},
   "source": [
    "### Ejercicio 3b."
   ]
  },
  {
   "cell_type": "code",
   "execution_count": 64,
   "metadata": {},
   "outputs": [
    {
     "name": "stdout",
     "output_type": "stream",
     "text": [
      "Método de Newton:\n",
      "Raíz: 1.2397146979752596\n",
      "Número de iteraciones: 4\n",
      "\n",
      "Método de la Secante:\n",
      "Raíz: 1.2397146979708213\n",
      "Número de iteraciones: 5\n"
     ]
    }
   ],
   "source": [
    "import math\n",
    "\n",
    "def f(x):\n",
    "    return 2*x + 3*math.cos(x) - math.exp(x)\n",
    "\n",
    "def df(x):  # Derivada de f(x)\n",
    "    return 2 - 3*math.sin(x) - math.exp(x)\n",
    "\n",
    "def newton(p0, tol=1e-5, max_iter=100):\n",
    "    for i in range(max_iter):\n",
    "        p = p0 - f(p0) / df(p0)\n",
    "        if abs(p - p0) < tol:\n",
    "            return p, i+1\n",
    "        p0 = p\n",
    "    raise ValueError(\"El método de Newton no convergió\")\n",
    "\n",
    "def secante(p0, p1, tol=1e-5, max_iter=100):\n",
    "    for i in range(max_iter):\n",
    "        p = p1 - f(p1) * (p1 - p0) / (f(p1) - f(p0))\n",
    "        if abs(p - p1) < tol:\n",
    "            return p, i+1\n",
    "        p0, p1 = p1, p\n",
    "    raise ValueError(\"El método de la secante no convergió\")\n",
    "\n",
    "# Valores iniciales (dentro del intervalo [1, 2])\n",
    "p0 = 1\n",
    "p1 = 1.5  # Para el método de la secante\n",
    "\n",
    "# Método de Newton\n",
    "root_newton, iter_newton = newton(p0)\n",
    "print(\"Método de Newton:\")\n",
    "print(\"Raíz:\", root_newton)\n",
    "print(\"Número de iteraciones:\", iter_newton)\n",
    "\n",
    "# Método de la Secante\n",
    "root_secante, iter_secante = secante(p0, p1)\n",
    "print(\"\\nMétodo de la Secante:\")\n",
    "print(\"Raíz:\", root_secante)\n",
    "print(\"Número de iteraciones:\", iter_secante)"
   ]
  },
  {
   "cell_type": "markdown",
   "metadata": {},
   "source": [
    "### Ejercicio 4 a."
   ]
  },
  {
   "cell_type": "code",
   "execution_count": 65,
   "metadata": {},
   "outputs": [
    {
     "name": "stdout",
     "output_type": "stream",
     "text": [
      "Raíz aproximada en el intervalo [-1, 0]: -0.040659\n",
      "Raíz aproximada en el intervalo [0, 1]: -0.040659\n"
     ]
    }
   ],
   "source": [
    "import numpy as np\n",
    "\n",
    "# Método de la secante\n",
    "def secant_method(f, x0, x1, tol=1e-6, max_iter=100):\n",
    "    for i in range(max_iter):\n",
    "        # Calcula el siguiente valor usando la fórmula de la secante\n",
    "        if f(x1) - f(x0) == 0:\n",
    "            print(f\"Error: División por cero en la iteración {i}\")\n",
    "            return None\n",
    "        \n",
    "        x2 = x1 - f(x1) * (x1 - x0) / (f(x1) - f(x0))\n",
    "        \n",
    "        # Verifica si la diferencia entre dos iteraciones es suficientemente pequeña\n",
    "        if abs(x2 - x1) < tol:\n",
    "            return x2  # La raíz aproximada\n",
    "        \n",
    "        # Actualiza los valores de x0 y x1 para la siguiente iteración\n",
    "        x0, x1 = x1, x2\n",
    "    \n",
    "    print(\"El método de la secante no convergió en el número máximo de iteraciones.\")\n",
    "    return None\n",
    "\n",
    "# Definir la función f(x)\n",
    "def f(x):\n",
    "    return 230 * x**4 + 18 * x**3 + 9 * x**2 - 221 * x - 9\n",
    "\n",
    "# Intervalos\n",
    "x0_1, x1_1 = -1, 0  # Intervalo [-1, 0]\n",
    "x0_2, x1_2 = 0, 1   # Intervalo [0, 1]\n",
    "\n",
    "# Llamamos al método de la secante para el primer intervalo [-1, 0]\n",
    "root1 = secant_method(f, x0_1, x1_1, tol=1e-6)\n",
    "if root1 is not None:\n",
    "    print(f\"Raíz aproximada en el intervalo [-1, 0]: {root1:.6f}\")\n",
    "\n",
    "# Llamamos al método de la secante para el segundo intervalo [0, 1]\n",
    "root2 = secant_method(f, x0_2, x1_2, tol=1e-6)\n",
    "if root2 is not None:\n",
    "    print(f\"Raíz aproximada en el intervalo [0, 1]: {root2:.6f}\")\n"
   ]
  },
  {
   "cell_type": "markdown",
   "metadata": {},
   "source": [
    "### Ejercicio 4 b.\n"
   ]
  },
  {
   "cell_type": "code",
   "execution_count": 66,
   "metadata": {},
   "outputs": [
    {
     "name": "stdout",
     "output_type": "stream",
     "text": [
      "Raíz aproximada en el intervalo [-1, 0] usando el método de Newton: -0.040659\n",
      "Raíz aproximada en el intervalo [0, 1] usando el método de Newton: -0.040659\n"
     ]
    }
   ],
   "source": [
    "import numpy as np\n",
    "\n",
    "# Método de Newton\n",
    "def newton_method(f, f_prime, p0, tol=1e-6, max_iter=100):\n",
    "    p = p0\n",
    "    for i in range(max_iter):\n",
    "        fp = f(p)\n",
    "        fp_prime = f_prime(p)\n",
    "        if abs(fp_prime) < 1e-12:  # Evitar división por cero\n",
    "            print(\"Derivada muy cercana a cero. Método falla.\")\n",
    "            return None\n",
    "        p_next = p - fp / fp_prime\n",
    "        if abs(p_next - p) < tol:\n",
    "            return p_next  # La raíz aproximada\n",
    "        p = p_next\n",
    "    print(\"El método de Newton no convergió en el número máximo de iteraciones.\")\n",
    "    return None\n",
    "\n",
    "# Definir la función f(x) y su derivada f'(x)\n",
    "def f(x):\n",
    "    return 230 * x**4 + 18 * x**3 + 9 * x**2 - 221 * x - 9\n",
    "\n",
    "def f_prime(x):\n",
    "    return 920 * x**3 + 54 * x**2 + 18 * x - 221\n",
    "\n",
    "# Intervalos\n",
    "x0_1, x1_1 = -1, 0  # Intervalo [-1, 0]\n",
    "x0_2, x1_2 = 0, 1   # Intervalo [0, 1]\n",
    "\n",
    "# Estimación inicial usando el punto medio de cada intervalo\n",
    "p0_1 = (x0_1 + x1_1) / 2\n",
    "p0_2 = (x0_2 + x1_2) / 2\n",
    "\n",
    "# Llamamos al método de Newton para el primer intervalo [-1, 0]\n",
    "root1 = newton_method(f, f_prime, p0_1, tol=1e-6)\n",
    "if root1 is not None:\n",
    "    print(f\"Raíz aproximada en el intervalo [-1, 0] usando el método de Newton: {root1:.6f}\")\n",
    "\n",
    "# Llamamos al método de Newton para el segundo intervalo [0, 1]\n",
    "root2 = newton_method(f, f_prime, p0_2, tol=1e-6)\n",
    "if root2 is not None:\n",
    "    print(f\"Raíz aproximada en el intervalo [0, 1] usando el método de Newton: {root2:.6f}\")\n"
   ]
  },
  {
   "cell_type": "markdown",
   "metadata": {},
   "source": [
    "### Ejercicio 5"
   ]
  },
  {
   "cell_type": "code",
   "execution_count": 67,
   "metadata": {},
   "outputs": [
    {
     "name": "stdout",
     "output_type": "stream",
     "text": [
      "Raíz por bisección: 0.44765625 en 10 iteraciones\n",
      "Raíz por Newton: 0.4474315432887487 en 6 iteraciones\n",
      "Raíz por secante: -2989.9400375314453 en 10 iteraciones\n"
     ]
    }
   ],
   "source": [
    "import math\n",
    "\n",
    "def f(x):\n",
    "    return math.tan(math.pi*x) - 6\n",
    "\n",
    "def biseccion(a, b, tol, max_iter):\n",
    "    iteraciones = 0\n",
    "    for i in range(max_iter):\n",
    "        iteraciones += 1\n",
    "        c = (a + b) / 2\n",
    "        if f(c) == 0 or (b - a) / 2 < tol:\n",
    "            return c, iteraciones\n",
    "        elif f(a)*f(c) < 0:\n",
    "            b = c\n",
    "        else:\n",
    "            a = c\n",
    "    return c, iteraciones\n",
    "\n",
    "def newton(x0, tol, max_iter):\n",
    "    iteraciones = 0\n",
    "    for i in range(max_iter):\n",
    "        iteraciones += 1\n",
    "        x1 = x0 - f(x0) / f_prime(x0)\n",
    "        if abs(x1 - x0) < tol:\n",
    "            return x1, iteraciones\n",
    "        x0 = x1\n",
    "    return x1, iteraciones\n",
    "\n",
    "def secante(x0, x1, tol, max_iter):\n",
    "    iteraciones = 0\n",
    "    for i in range(max_iter):\n",
    "        iteraciones += 1\n",
    "        x2 = x1 - f(x1)*(x1 - x0)/(f(x1) - f(x0))\n",
    "        if abs(x2 - x1) < tol:\n",
    "            return x2, iteraciones\n",
    "        x0, x1 = x1, x2\n",
    "    return x2, iteraciones\n",
    "\n",
    "# Derivada de f(x)\n",
    "def f_prime(x):\n",
    "    return math.pi * (1 + math.tan(math.pi*x)**2)\n",
    "\n",
    "# Parámetros iniciales\n",
    "p0 = 0\n",
    "p1 = 0.48\n",
    "tol = 1e-6\n",
    "max_iter = 10\n",
    "\n",
    "# Aplicando los métodos\n",
    "raiz_biseccion, iter_biseccion = biseccion(p0, p1, tol, max_iter)\n",
    "raiz_newton, iter_newton = newton(p1, tol, max_iter)\n",
    "raiz_secante, iter_secante = secante(p0, p1, tol, max_iter)\n",
    "\n",
    "print(\"Raíz por bisección:\", raiz_biseccion, \"en\", iter_biseccion, \"iteraciones\")\n",
    "print(\"Raíz por Newton:\", raiz_newton, \"en\", iter_newton, \"iteraciones\")\n",
    "print(\"Raíz por secante:\", raiz_secante, \"en\", iter_secante, \"iteraciones\")"
   ]
  },
  {
   "cell_type": "markdown",
   "metadata": {},
   "source": [
    "### Ejercicio 6a.\n",
    "\n"
   ]
  },
  {
   "cell_type": "code",
   "execution_count": 68,
   "metadata": {},
   "outputs": [
    {
     "data": {
      "image/png": "[encoded data removed]",
      "text/plain": [
       "<Figure size 640x480 with 1 Axes>"
      ]
     },
     "metadata": {},
     "output_type": "display_data"
    },
    {
     "name": "stdout",
     "output_type": "stream",
     "text": [
      "La raíz negativa es: -0.43414304735877096\n"
     ]
    }
   ],
   "source": [
    "import numpy as np\n",
    "import matplotlib.pyplot as plt\n",
    "\n",
    "def f(x):\n",
    "    return np.log(x**2 + 1) - np.exp(0.4*x) * np.cos(np.pi*x)\n",
    "\n",
    "def df(x):\n",
    "    return 2*x/(x**2 + 1) - 0.4*np.exp(0.4*x)*np.cos(np.pi*x) + np.pi*np.exp(0.4*x)*np.sin(np.pi*x)\n",
    "\n",
    "def newton_raphson(x0, tol):\n",
    "    x = x0\n",
    "    while abs(f(x)) > tol:\n",
    "        x = x - f(x)/df(x)\n",
    "    return x\n",
    "\n",
    "# Visualización (opcional, para encontrar una buena estimación inicial)\n",
    "x = np.linspace(-5, 0, 1000)\n",
    "plt.plot(x, f(x))\n",
    "plt.grid(True)\n",
    "plt.show()\n",
    "\n",
    "# Estimación inicial (basada en la gráfica)\n",
    "x0 = -2\n",
    "\n",
    "# Calcular la raíz\n",
    "raiz = newton_raphson(x0, 1e-6)\n",
    "\n",
    "print(\"La raíz negativa es:\", raiz)"
   ]
  },
  {
   "cell_type": "markdown",
   "metadata": {},
   "source": [
    "### Ejercicio 6b."
   ]
  },
  {
   "cell_type": "code",
   "execution_count": 69,
   "metadata": {},
   "outputs": [
    {
     "name": "stdout",
     "output_type": "stream",
     "text": [
      "Raíz encontrada: 0.45065674789059323 en 3 iteraciones.\n",
      "Raíz encontrada: 1.7447380533683496 en 3 iteraciones.\n",
      "Raíz encontrada: 2.2383197950741383 en 5 iteraciones.\n",
      "Raíz encontrada: 3.709041201375952 en 4 iteraciones.\n",
      "Cuatro ceros positivos más pequeños encontrados:\n",
      "Cero 1: 0.45065674789059323\n",
      "Cero 2: 1.7447380533683496\n",
      "Cero 3: 2.2383197950741383\n",
      "Cero 4: 3.709041201375952\n"
     ]
    }
   ],
   "source": [
    "import math\n",
    "\n",
    "def f(x):\n",
    "    return math.log(x**2 + 1) - math.exp(0.4 * x) * math.cos(math.pi * x)\n",
    "\n",
    "def f_prime(x):\n",
    "    return (2 * x / (x**2 + 1)) - (0.4 * math.exp(0.4 * x) * math.cos(math.pi * x)) + (math.pi * math.exp(0.4 * x) * math.sin(math.pi * x))\n",
    "\n",
    "def newton(p0, tol=1e-6, max_iter=100):\n",
    "    p = p0\n",
    "    for i in range(max_iter):\n",
    "        p_new = p - f(p) / f_prime(p)\n",
    "        if abs(p_new - p) < tol:\n",
    "            return p_new, i + 1\n",
    "        p = p_new\n",
    "    return p, max_iter\n",
    "\n",
    "def find_roots(start_points, tol=1e-6, max_iter=100):\n",
    "    roots = []\n",
    "    for p0 in start_points:\n",
    "        root, iterations = newton(p0, tol, max_iter)\n",
    "        # Only append root if it's not already in the list (within tolerance)\n",
    "        if not any(abs(root - r) < tol for r in roots):\n",
    "            roots.append(root)\n",
    "            print(f\"Raíz encontrada: {root} en {iterations} iteraciones.\")\n",
    "    return roots\n",
    "\n",
    "# Puntos de inicio para los ceros positivos más pequeños\n",
    "start_points = [0.5, 1.5, 2.5, 3.5]\n",
    "\n",
    "# Encontrar las raíces\n",
    "roots = find_roots(start_points)\n",
    "\n",
    "print(\"Cuatro ceros positivos más pequeños encontrados:\")\n",
    "for i, root in enumerate(roots, start=1):\n",
    "    print(f\"Cero {i}: {root}\")\n"
   ]
  },
  {
   "cell_type": "markdown",
   "metadata": {},
   "source": [
    "### Ejercicio 6c."
   ]
  },
  {
   "cell_type": "code",
   "execution_count": 49,
   "metadata": {},
   "outputs": [
    {
     "data": {
      "image/png": "[encoded data removed]",
      "text/plain": [
       "<Figure size 640x480 with 1 Axes>"
      ]
     },
     "metadata": {},
     "output_type": "display_data"
    }
   ],
   "source": [
    "import numpy as np\n",
    "import matplotlib.pyplot as plt\n",
    "\n",
    "# Definir la función f(x)\n",
    "def f(x):\n",
    "    return np.log(x**2 + 1) - np.exp(0.4*x) * np.cos(np.pi * x)\n",
    "\n",
    "# Crear un rango de valores para x\n",
    "x_vals = np.linspace(0, 10, 1000)\n",
    "\n",
    "# Evaluar f(x) para estos valores\n",
    "y_vals = f(x_vals)\n",
    "\n",
    "# Graficar f(x)\n",
    "plt.plot(x_vals, y_vals, label=r'$f(x) = \\ln(x^2 + 1) - e^{0.4x} \\cos(\\pi x)$')\n",
    "plt.axhline(0, color='black',linewidth=1)  # Línea horizontal en y=0\n",
    "plt.axvline(0, color='black',linewidth=1)  # Línea vertical en x=0\n",
    "plt.title(\"Gráfica de la función $f(x)$\")\n",
    "plt.xlabel('x')\n",
    "plt.ylabel('f(x)')\n",
    "plt.grid(True)\n",
    "plt.legend()\n",
    "plt.show()\n"
   ]
  },
  {
   "cell_type": "markdown",
   "metadata": {},
   "source": [
    "### Ejercicio 7"
   ]
  },
  {
   "cell_type": "code",
   "execution_count": 53,
   "metadata": {},
   "outputs": [
    {
     "name": "stdout",
     "output_type": "stream",
     "text": [
      "No se alcanzó la convergencia\n",
      "No se alcanzó la convergencia\n"
     ]
    }
   ],
   "source": [
    "import numpy as np\n",
    "\n",
    "# Definición de la función y su derivada\n",
    "def f(x):\n",
    "    return x ** (1 / 3)\n",
    "\n",
    "def df(x):\n",
    "    return (1 / 3) * x ** (-2 / 3)\n",
    "\n",
    "# Método de Newton-Raphson\n",
    "def newton_raphson(x0, tol=1e-6, max_iter=100):\n",
    "    x = x0\n",
    "    for _ in range(max_iter):\n",
    "        x_new = x - f(x) / df(x)\n",
    "        if abs(x_new - x) < tol:\n",
    "            return x_new\n",
    "        x = x_new\n",
    "    raise ValueError(\"No se alcanzó la convergencia\")\n",
    "\n",
    "# Método de la Secante\n",
    "def secant_method(p0, p1, tol=1e-6, max_iter=100):\n",
    "    for _ in range(max_iter):\n",
    "        p = p1 - f(p1) * (p1 - p0) / (f(p1) - f(p0))\n",
    "        if abs(p - p1) < tol:\n",
    "            return p\n",
    "        p0, p1 = p1, p\n",
    "    raise ValueError(\"No se alcanzó la convergencia\")\n",
    "\n",
    "# Parámetros iniciales\n",
    "x0 = 1\n",
    "p0 = 5\n",
    "p1 = 0.5\n",
    "\n",
    "# Ejecución de los métodos\n",
    "try:\n",
    "    raiz_newton = newton_raphson(x0)\n",
    "    print(f\"Raíz encontrada por Newton-Raphson: {raiz_newton}\")\n",
    "except ValueError as e:\n",
    "    print(e)\n",
    "\n",
    "try:\n",
    "    raiz_secante = secant_method(p0, p1)\n",
    "    print(f\"Raíz encontrada por el Método de la Secante: {raiz_secante}\")\n",
    "except ValueError as e:\n",
    "    print(e)\n",
    "\n"
   ]
  },
  {
   "cell_type": "code",
   "execution_count": null,
   "metadata": {},
   "outputs": [],
   "source": []
  }
 ],
 "metadata": {
  "kernelspec": {
   "display_name": "base",
   "language": "python",
   "name": "python3"
  },
  "language_info": {
   "codemirror_mode": {
    "name": "ipython",
    "version": 3
   },
   "file_extension": ".py",
   "mimetype": "text/x-python",
   "name": "python",
   "nbconvert_exporter": "python",
   "pygments_lexer": "ipython3",
   "version": "3.12.4"
  }
 },
 "nbformat": 4,
 "nbformat_minor": 2
}
