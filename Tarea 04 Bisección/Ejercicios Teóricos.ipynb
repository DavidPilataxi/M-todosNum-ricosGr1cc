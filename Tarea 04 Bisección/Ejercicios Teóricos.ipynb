{
 "cells": [
  {
   "cell_type": "markdown",
   "metadata": {},
   "source": [
    "1. Use el teorema 2.1 para encontrar una cota para el número de iteraciones necesarias para lograr una aproximación con precisión de 10−4 para la solución de x^3  - x - 1 = 0 que se encuentra dentro del intervalo (1, 2). Encuentre una aproximación para la raíz con este grado de precisión."
   ]
  },
  {
   "cell_type": "code",
   "execution_count": null,
   "metadata": {},
   "outputs": [
    {
     "data": {
      "text/plain": [
       "Iteraciones minimas requeridas: 14\n",
       "Raiz aproximada: 1.32476806640625\n"
      ]
     },
     "metadata": {},
     "output_type": "display_data"
    }
   ],
   "source": [
    "import numpy as np\n",
    "import matplotlib.pyplot as plt\n",
    "\n",
    "# Parametros del intervalo\n",
    "a, b = 1, 2\n",
    "eps = 1e-4\n",
    "\n",
    "# Calculo de iteraciones necesarias\n",
    "N = np.ceil((np.log(b - a) - np.log(eps)) / np.log(2))\n",
    "print(\"Iteraciones minimas requeridas:\", int(N))\n",
    "\n",
    "# Funcion objetivo\n",
    "def f(x):\n",
    "    return x**3 - x - 1\n",
    "\n",
    "# Metodo de Biseccion\n",
    "def bisec(func, a, b, tol=eps, max_iter=100):\n",
    "    if func(a) * func(b) >= 0:\n",
    "        print(\"No aplicable en este intervalo.\")\n",
    "        return None, []\n",
    "    \n",
    "    mps = []  # Lista de puntos medios\n",
    "    for _ in range(max_iter):\n",
    "        m = (a + b) / 2\n",
    "        mps.append(m)  # Guardar punto medio\n",
    "        if func(m) == 0:\n",
    "            return m, mps  # Solucion exacta\n",
    "        elif func(a) * func(m) < 0:\n",
    "            b = m\n",
    "        else:\n",
    "            a = m\n",
    "        if (b - a) / 2 <= tol:\n",
    "            break\n",
    "    \n",
    "    return (a + b) / 2, mps  # Raiz aproximada\n",
    "\n",
    "# Ejecutar el metodo de biseccion\n",
    "root, midpoints = bisec(f, a, b)\n",
    "print(\"Raiz aproximada:\", root)\n",
    "\n",
    "# Grafica de la funcion y los puntos de biseccion\n",
    "x = np.linspace(0, 2, 100)  # Rango para x\n",
    "y = f(x)\n",
    "\n",
    "plt.figure(figsize=(12, 8))\n",
    "plt.plot(x, y, label='f(x) = x³ - x - 1', color='green')\n",
    "plt.axhline(0, color='black', linestyle='--')  # Linea en y=0\n",
    "plt.axvline(root, color='purple', linestyle='--', label='Raiz aproximada')\n",
    "plt.scatter(midpoints, f(np.array(midpoints)), color='orange', label='Puntos medios', zorder=5)\n",
    "\n",
    "# Etiquetas y titulo\n",
    "plt.title('Metodo de Biseccion')\n",
    "plt.xlabel('x')\n",
    "plt.ylabel('f(x)')\n",
    "plt.legend()\n",
    "plt.grid()\n",
    "plt.ylim(-3, 3)  # Ajustar rango del eje y\n",
    "plt.show()\n"
   ]
  },
  {
   "cell_type": "code",
   "execution_count": null,
   "metadata": {},
   "outputs": [],
   "source": []
  }
 ],
 "metadata": {
  "language_info": {
   "name": "python"
  }
 },
 "nbformat": 4,
 "nbformat_minor": 2
}
