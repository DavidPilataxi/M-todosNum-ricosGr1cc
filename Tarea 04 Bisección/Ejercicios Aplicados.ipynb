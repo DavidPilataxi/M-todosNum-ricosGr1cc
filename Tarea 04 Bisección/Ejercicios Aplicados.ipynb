{
 "cells": [
  {
   "cell_type": "markdown",
   "metadata": {},
   "source": [
    "1. Problema del abrevadero"
   ]
  },
  {
   "cell_type": "code",
   "execution_count": null,
   "metadata": {},
   "outputs": [
    {
     "data": {
      "text/plain": [
       "La profundidad del agua en el abrevadero es aproximadamente 0.1662 cm\n"
      ]
     },
     "metadata": {},
     "output_type": "display_data"
    }
   ],
   "source": [
    "import math\n",
    "from scipy.optimize import fsolve\n",
    "\n",
    "# Datos \n",
    "L = 10      # Longitud en cm\n",
    "r = 1       # Radio en cm\n",
    "V = 12.4    # Volumen en cm^3\n",
    "\n",
    "# Definimos la función para el volumen en función de h\n",
    "def volumen_func(h):\n",
    "    # Calcula el volumen basado en la fórmula dada\n",
    "    term1 = 0.5 * math.pi * r**2\n",
    "    term2 = r**2 * math.asin(h / r)\n",
    "    term3 = h * math.sqrt(r**2 - h**2)\n",
    "    volumen_calculado = L * (term1 - term2 - term3)\n",
    "    \n",
    "    # La función devuelve la diferencia entre el volumen deseado y el calculado\n",
    "    return volumen_calculado - V\n",
    "\n",
    "# Estimación inicial para h (la mitad del radio)\n",
    "h_inicial = r / 2\n",
    "\n",
    "#  fsolve para encontrar el valor de h\n",
    "h_solucion, = fsolve(volumen_func, h_inicial)\n",
    "\n",
    "# Mostramos el resultado\n",
    "print(f\"La profundidad del agua en el abrevadero es aproximadamente {h_solucion:.4f} cm\")"
   ]
  },
  {
   "cell_type": "markdown",
   "metadata": {},
   "source": [
    "2. Problema del objeto que cae con resistencia viscosa."
   ]
  },
  {
   "cell_type": "code",
   "execution_count": null,
   "metadata": {},
   "outputs": [
    {
     "data": {
      "text/plain": [
       "El tiempo en que el objeto golpea el piso es aproximadamente: 14.725499843314939 segundos\n"
      ]
     },
     "metadata": {},
     "output_type": "display_data"
    }
   ],
   "source": [
    "import numpy as np\n",
    "from scipy.optimize import fsolve\n",
    "\n",
    "# Parámetros dados\n",
    "g = 9.81  # aceleración de la gravedad en m/s^2\n",
    "m = 0.25  # masa en kg\n",
    "k = 0.1   # coeficiente de resistencia en Ns/m\n",
    "s0 = 300  # altura inicial en metros\n",
    "\n",
    "# Definimos la función s(t) para la altura en función del tiempo\n",
    "def s(t):\n",
    "    return s0 - (m * g / k) * t + (m**2 * g / k**2) * (1 - np.exp(-k * t / m))\n",
    "\n",
    "# Encontramos el tiempo en que s(t) es aproximadamente 0\n",
    "tiempo_inicial_estimado = 0.01  # tiempo inicial de búsqueda en segundos\n",
    "tiempo_suelo = fsolve(s, tiempo_inicial_estimado)[0]\n",
    "\n",
    "# Resultado\n",
    "print(\"El tiempo en que el objeto golpea el piso es aproximadamente:\", tiempo_suelo, \"segundos\")\n"
   ]
  },
  {
   "cell_type": "code",
   "execution_count": null,
   "metadata": {},
   "outputs": [],
   "source": []
  }
 ],
 "metadata": {
  "language_info": {
   "name": "python"
  }
 },
 "nbformat": 4,
 "nbformat_minor": 2
}
