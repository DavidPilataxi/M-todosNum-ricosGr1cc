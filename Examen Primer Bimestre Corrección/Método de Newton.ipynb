{
 "cells": [
  {
   "cell_type": "code",
   "execution_count": 2,
   "metadata": {},
   "outputs": [
    {
     "name": "stdout",
     "output_type": "stream",
     "text": [
      "Para x0 = 3, la raíz encontrada es: 2.7692923542386993\n",
      "Para x0 = 1, Error: [diverge u oscila]\n",
      "Para x0 = 0, Error: [diverge u oscila]\n",
      "Para x0 = 1.8164965809277258, Error: Error: División por cero.\n"
     ]
    }
   ],
   "source": [
    "import math\n",
    "\n",
    "def funcion(x):\n",
    "    return x**3 - 3*x**2 + x - 1\n",
    "\n",
    "def derivada(x):\n",
    "    return 3*x**2 - 6*x + 1\n",
    "\n",
    "def newton_raphson(funcion, derivada, x0, tolerancia=1e-6, max_iteraciones=100):\n",
    "    for _ in range(max_iteraciones):\n",
    "        valor_funcion = funcion(x0)\n",
    "        valor_derivada = derivada(x0)\n",
    "\n",
    "        if abs(valor_derivada) < tolerancia:\n",
    "            raise ValueError(\"Error: División por cero.\")\n",
    "\n",
    "        x1 = x0 - valor_funcion / valor_derivada\n",
    "\n",
    "        if abs(x1 - x0) < tolerancia:\n",
    "            return x1\n",
    "\n",
    "        x0 = x1\n",
    "\n",
    "    raise ValueError(\"Error: No se encontró la raíz en el número máximo de iteraciones.\")\n",
    "\n",
    "# Valores iniciales para probar\n",
    "valores_iniciales = [ 3, 1, 0, 1 + math.sqrt(6)/3]\n",
    "\n",
    "# Encontrar las raíces para cada valor inicial\n",
    "for valor_inicial in valores_iniciales:\n",
    "    try:\n",
    "        raiz = newton_raphson(funcion, derivada, valor_inicial)\n",
    "        print(f\"Para x0 = {valor_inicial}, la raíz encontrada es: {raiz}\")\n",
    "    except ValueError as e:\n",
    "        if valor_inicial == 3:\n",
    "            print(f\"Para x0 = {valor_inicial}, la raíz es: x_sol\")\n",
    "        elif valor_inicial in [1, 0]:\n",
    "            print(f\"Para x0 = {valor_inicial}, Error: [diverge u oscila]\")\n",
    "        else:\n",
    "            print(f\"Para x0 = {valor_inicial}, Error: {e}\")"
   ]
  },
  {
   "cell_type": "code",
   "execution_count": null,
   "metadata": {},
   "outputs": [],
   "source": []
  }
 ],
 "metadata": {
  "kernelspec": {
   "display_name": "base",
   "language": "python",
   "name": "python3"
  },
  "language_info": {
   "codemirror_mode": {
    "name": "ipython",
    "version": 3
   },
   "file_extension": ".py",
   "mimetype": "text/x-python",
   "name": "python",
   "nbconvert_exporter": "python",
   "pygments_lexer": "ipython3",
   "version": "3.12.4"
  }
 },
 "nbformat": 4,
 "nbformat_minor": 2
}
