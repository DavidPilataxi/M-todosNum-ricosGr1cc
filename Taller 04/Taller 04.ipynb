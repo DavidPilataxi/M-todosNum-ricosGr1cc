{
 "cells": [
  {
   "cell_type": "markdown",
   "metadata": {},
   "source": [
    "---\n",
    "title: \"Taller 04\"\n",
    "author: \"David Pilataxi\"\n",
    "lang: es\n",
    "format: \n",
    "  pdf:\n",
    "    toc: true\n",
    "    toc-title: \"Tabla de Contenidos\"  \n",
    "execute:\n",
    "  echo: true\n",
    "  error: false\n",
    "  warning: false\n",
    "jupyter: python3\n",
    "---"
   ]
  },
  {
   "cell_type": "markdown",
   "metadata": {},
   "source": [
    "### Taller 04\n",
    "### Ajuste de curvas por mínimos cuadrados"
   ]
  },
  {
   "cell_type": "code",
   "execution_count": 1,
   "metadata": {},
   "outputs": [
    {
     "data": {
      "application/vnd.jupyter.widget-view+json": {
       "model_id": "a082b56d14e848c893ac1bd514638457",
       "version_major": 2,
       "version_minor": 0
      },
      "text/plain": [
       "interactive(children=(FloatSlider(value=8.9, description='p2_x', max=12.3, min=5.5), FloatSlider(value=0.0, de…"
      ]
     },
     "metadata": {},
     "output_type": "display_data"
    }
   ],
   "source": [
    "import numpy as np\n",
    "from ipywidgets import interact\n",
    "import matplotlib.pyplot as plt\n",
    "\n",
    "p1 = (5.4, 3.2)\n",
    "p3 = (12.3, -3.6)\n",
    "\n",
    "def calcular_regresion_lineal(x_coords, y_coords):\n",
    "    # Convertir las listas de coordenadas a arrays de numpy\n",
    "    x = np.array(x_coords)\n",
    "    y = np.array(y_coords)\n",
    "\n",
    "    # Calcular la pendiente (m) y la intersección (b) usando la fórmula de regresión lineal\n",
    "    m, b = np.polyfit(x, y, 1)\n",
    "    return m, b\n",
    "\n",
    "def update_plot(p2_x, p2_y):\n",
    "    x_coords = [p1[0], p2_x, p3[0]]\n",
    "    y_coords = [p1[1], p2_y, p3[1]]\n",
    "\n",
    "    # Calcular la regresión lineal de los puntos\n",
    "    m, b = calcular_regresion_lineal(x_coords, y_coords)\n",
    "\n",
    "    # Graficar los puntos y la recta de regresión\n",
    "    plt.figure(figsize=(10, 6))\n",
    "    plt.scatter(x_coords, y_coords, color=\"red\")\n",
    "\n",
    "    x_line = [min(x_coords), max(x_coords)]\n",
    "    y_line = [m * x + b for x in x_line]\n",
    "    plt.plot(x_line, y_line, color=\"blue\")\n",
    "\n",
    "    plt.xlabel(\"X\")\n",
    "    plt.ylabel(\"Y\")\n",
    "    plt.title(\"Gráfico de puntos y líneas con regresión lineal\")\n",
    "    plt.show()\n",
    "\n",
    "    # Mostrar los coeficientes de la regresión\n",
    "    print(f\"Regresión lineal: y = {m:.2f}x + {b:.2f}\")\n",
    "\n",
    "_ = interact(update_plot, p2_x=(5.5, 12.3, 0.1), p2_y=(-10.0, 10.0, 0.1))\n"
   ]
  },
  {
   "cell_type": "code",
   "execution_count": null,
   "metadata": {},
   "outputs": [],
   "source": []
  }
 ],
 "metadata": {
  "kernelspec": {
   "display_name": "base",
   "language": "python",
   "name": "python3"
  },
  "language_info": {
   "codemirror_mode": {
    "name": "ipython",
    "version": 3
   },
   "file_extension": ".py",
   "mimetype": "text/x-python",
   "name": "python",
   "nbconvert_exporter": "python",
   "pygments_lexer": "ipython3",
   "version": "3.12.4"
  }
 },
 "nbformat": 4,
 "nbformat_minor": 2
}
